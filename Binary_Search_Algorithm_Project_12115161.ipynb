{
 "cells": [
  {
   "cell_type": "code",
   "execution_count": 8,
   "id": "c8b5d122",
   "metadata": {},
   "outputs": [
    {
     "name": "stdout",
     "output_type": "stream",
     "text": [
      "Enter the Number of Element in the list :: 5\n",
      "Enter the Number to be Searched :: 10\n",
      "[61, 35, 20, 64, 52]\n",
      "Sorted List [20, 35, 52, 61, 64]\n",
      "The number is not inside the list.\n"
     ]
    }
   ],
   "source": [
    "#binary search algorithm\n",
    "\n",
    "import random\n",
    "\n",
    "def generate_list(n):\n",
    "    lst=[random.randint(0,100)for i in range(n)]\n",
    "    print(lst)\n",
    "    lst.sort()\n",
    "    print(\"Sorted List\",lst)\n",
    "    for i in range(1,len(lst)):\n",
    "        lst[i]=lst[i-1]+2\n",
    "    return lst\n",
    "    \n",
    "    # function to perform Binary Search o the list\n",
    "def binary_search(lst,x):\n",
    "    start=0 \n",
    "    end=len(lst)-1\n",
    "    while start <= end:\n",
    "        mid= (start +end)//2\n",
    "        if(lst[mid]==x):\n",
    "           return True\n",
    "        elif(lst[mid]<x):\n",
    "            start=mid+1\n",
    "        else:\n",
    "           end=mid-1\n",
    "    return False\n",
    "    # GEt input from user\n",
    "    \n",
    "n= int(input(\"Enter the Number of Element in the list :: \"))\n",
    "x=int(input(\"Enter the Number to be Searched :: \"))\n",
    "    \n",
    "#Generate the list and perform Binary Search \n",
    "\n",
    "lst =generate_list(n)\n",
    "result = binary_search(lst,x)\n",
    "\n",
    "# print the result\n",
    "\n",
    "if result:\n",
    "    print(\" The Number is in the list.\")\n",
    "else:\n",
    "    print(\"The number is not inside the list.\")\n",
    "    "
   ]
  }
 ],
 "metadata": {
  "kernelspec": {
   "display_name": "Python 3 (ipykernel)",
   "language": "python",
   "name": "python3"
  },
  "language_info": {
   "codemirror_mode": {
    "name": "ipython",
    "version": 3
   },
   "file_extension": ".py",
   "mimetype": "text/x-python",
   "name": "python",
   "nbconvert_exporter": "python",
   "pygments_lexer": "ipython3",
   "version": "3.9.13"
  }
 },
 "nbformat": 4,
 "nbformat_minor": 5
}
